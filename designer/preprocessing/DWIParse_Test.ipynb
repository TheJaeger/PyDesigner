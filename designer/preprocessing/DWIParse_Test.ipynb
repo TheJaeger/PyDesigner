{
 "cells": [
  {
   "cell_type": "code",
   "execution_count": 36,
   "metadata": {},
   "outputs": [],
   "source": [
    "import numpy as np\n",
    "import time\n",
    "import os\n",
    "from util import DWIFile\n",
    "import subprocess"
   ]
  },
  {
   "cell_type": "code",
   "execution_count": 58,
   "metadata": {},
   "outputs": [
    {
     "name": "stdout",
     "output_type": "stream",
     "text": [
      "mrcat -axis 3 /home/sid/Desktop/PyTest/Cat/dwi0.mif /home/sid/Desktop/PyTest/Cat/dwi1.mif /home/sid/Desktop/PyTest/Cat/dwi_designer.mif\n"
     ]
    }
   ],
   "source": [
    "path = '/home/sid/Desktop/DWI/DKI_BIPOLAR_2mm_64dir_62slices_20190206093716_18.nii,/home/sid/Desktop/DWI/Sid-Scans_DKI_BIPOLAR_2mm_topup_PA_20190206093716_19.nii'\n",
    "outpath = '/home/sid/Desktop/PyTest/Cat'\n",
    "UserCpath = path.rsplit(',')\n",
    "DWIlist = [os.path.realpath(i) for i in UserCpath]\n",
    "acq = np.zeros((len(DWIlist)),dtype=bool)\n",
    "for i,fname in enumerate(DWIlist):\n",
    "    acq[i] = DWIFile(fname).isAcquisition\n",
    "    if not np.any(acq):\n",
    "        raise Exception('One of the input sequences in not a '\n",
    "        'valid DWI acquisition. Ensure that the NifTi file is '\n",
    "        'present with its BVEC/BVAL pair.')\n",
    "DWIflist = [os.path.splitext(i) for i in DWIlist]\n",
    "DWInlist = [i[0] for i in DWIflist]\n",
    "DWIext = [i[1] for i in DWIflist]\n",
    "bvallist = [i + '.bval' for i in DWInlist]\n",
    "bveclist = [i + '.bvec' for i in DWInlist]\n",
    "miflist = []\n",
    "for (idx, i) in enumerate(DWInlist):\n",
    "    convert_arg = 'mrconvert -stride -1,2,3,4 -fslgrad ' + \\\n",
    "    bveclist[idx] + \\\n",
    "    ' ' + \\\n",
    "    bvallist[idx] + \\\n",
    "    ' ' + \\\n",
    "    i + \\\n",
    "    DWIext[idx] + \\\n",
    "    ' ' + \\\n",
    "    os.path.join(outpath, ('dwi' + str(idx) + '.mif'))\n",
    "    miflist.append(os.path.join(outpath,\n",
    "                ('dwi' + str(idx) + '.mif')))\n",
    "    \n",
    "#     completion = subprocess.run(convert_arg)\n",
    "#     if completion.returncode != 0:\n",
    "#         raise Exception('Conversion to .mif failed.')\n",
    "DWImif = ' '.join(miflist)\n",
    "cat_arg = 'mrcat -axis 3 ' + DWImif + ' ' + os.path.join(outpath, ('dwi_designer' + '.mif'))\n",
    "print(cat_arg)"
   ]
  }
 ],
 "metadata": {
  "kernelspec": {
   "display_name": "Python 3",
   "language": "python",
   "name": "python3"
  },
  "language_info": {
   "codemirror_mode": {
    "name": "ipython",
    "version": 3
   },
   "file_extension": ".py",
   "mimetype": "text/x-python",
   "name": "python",
   "nbconvert_exporter": "python",
   "pygments_lexer": "ipython3",
   "version": "3.7.4"
  }
 },
 "nbformat": 4,
 "nbformat_minor": 2
}
